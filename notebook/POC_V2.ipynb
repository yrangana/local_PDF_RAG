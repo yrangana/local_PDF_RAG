{
 "cells": [
  {
   "cell_type": "markdown",
   "metadata": {},
   "source": [
    "### Ollama PDF RAG Notebook V2"
   ]
  },
  {
   "cell_type": "markdown",
   "metadata": {},
   "source": [
    "#### Import Libraries"
   ]
  },
  {
   "cell_type": "code",
   "execution_count": 22,
   "metadata": {},
   "outputs": [],
   "source": [
    "# Imports\n",
    "from langchain_community.document_loaders import UnstructuredPDFLoader\n",
    "from langchain_ollama import OllamaEmbeddings\n",
    "from langchain_text_splitters import RecursiveCharacterTextSplitter\n",
    "from langchain_community.vectorstores import Chroma\n",
    "from langchain.prompts import ChatPromptTemplate, PromptTemplate\n",
    "from langchain_core.output_parsers import StrOutputParser\n",
    "from langchain_ollama.chat_models import ChatOllama\n",
    "from langchain_core.runnables import RunnablePassthrough\n",
    "from langchain.retrievers.multi_query import MultiQueryRetriever\n",
    "\n",
    "# Suppress warnings\n",
    "import warnings\n",
    "warnings.filterwarnings('ignore')\n",
    "\n",
    "# Jupyter-specific imports\n",
    "from IPython.display import display, Markdown\n",
    "\n",
    "# Set environment variable for protobuf\n",
    "import os\n",
    "os.environ[\"PROTOCOL_BUFFERS_PYTHON_IMPLEMENTATION\"] = \"python\""
   ]
  },
  {
   "cell_type": "markdown",
   "metadata": {},
   "source": [
    "#### Load PDF"
   ]
  },
  {
   "cell_type": "code",
   "execution_count": 23,
   "metadata": {},
   "outputs": [
    {
     "name": "stdout",
     "output_type": "stream",
     "text": [
      "PDF loaded successfully: ../data/Think_and_Grow_Rich.pdf\n"
     ]
    }
   ],
   "source": [
    "# Load PDF\n",
    "local_path = \"../data/Think_and_Grow_Rich.pdf\"\n",
    "if local_path:\n",
    "    loader = UnstructuredPDFLoader(file_path=local_path)\n",
    "    data = loader.load()\n",
    "    print(f\"PDF loaded successfully: {local_path}\")\n",
    "else:\n",
    "    print(\"Upload a PDF file\")"
   ]
  },
  {
   "cell_type": "markdown",
   "metadata": {},
   "source": [
    "#### Split text into chunks"
   ]
  },
  {
   "cell_type": "code",
   "execution_count": 24,
   "metadata": {},
   "outputs": [
    {
     "name": "stdout",
     "output_type": "stream",
     "text": [
      "Text split into 709 chunks\n"
     ]
    }
   ],
   "source": [
    "# Split text into chunks\n",
    "text_splitter = RecursiveCharacterTextSplitter(chunk_size=1000, chunk_overlap=200)\n",
    "chunks = text_splitter.split_documents(data)\n",
    "print(f\"Text split into {len(chunks)} chunks\")"
   ]
  },
  {
   "cell_type": "markdown",
   "metadata": {},
   "source": [
    "#### Creating Vector DB"
   ]
  },
  {
   "cell_type": "code",
   "execution_count": 25,
   "metadata": {},
   "outputs": [
    {
     "name": "stdout",
     "output_type": "stream",
     "text": [
      "Vector database created successfully\n"
     ]
    }
   ],
   "source": [
    "# Create vector database\n",
    "vector_db = Chroma.from_documents(\n",
    "    documents=chunks,\n",
    "    embedding=OllamaEmbeddings(model=\"nomic-embed-text\",base_url=\"http://localhost:11434\"),\n",
    "    collection_name=\"local-rag\"\n",
    ")\n",
    "print(\"Vector database created successfully\")"
   ]
  },
  {
   "cell_type": "markdown",
   "metadata": {},
   "source": [
    "#### Set up LLM and Retrieval"
   ]
  },
  {
   "cell_type": "code",
   "execution_count": 47,
   "metadata": {},
   "outputs": [],
   "source": [
    "# Set up LLM and retrieval\n",
    "local_model = \"llama3.3:latest\"\n",
    "llm = ChatOllama(model=local_model,temperature=0.1)"
   ]
  },
  {
   "cell_type": "code",
   "execution_count": 48,
   "metadata": {},
   "outputs": [],
   "source": [
    "# Query prompt template\n",
    "QUERY_PROMPT = PromptTemplate(\n",
    "    input_variables=[\"question\"],\n",
    "    template=\"\"\"You are an AI language model assistant. Your task is to generate 2\n",
    "    different versions of the given user question to retrieve relevant documents from\n",
    "    a vector database. By generating multiple perspectives on the user question, your\n",
    "    goal is to help the user overcome some of the limitations of the distance-based\n",
    "    similarity search. Provide these alternative questions separated by newlines.\n",
    "    Original question: {question}\"\"\",\n",
    ")\n",
    "\n",
    "# Set up retriever\n",
    "retriever = MultiQueryRetriever.from_llm(\n",
    "    vector_db.as_retriever(), \n",
    "    llm,\n",
    "    prompt=QUERY_PROMPT\n",
    ")"
   ]
  },
  {
   "cell_type": "markdown",
   "metadata": {},
   "source": [
    "#### Create Chain"
   ]
  },
  {
   "cell_type": "code",
   "execution_count": 49,
   "metadata": {},
   "outputs": [],
   "source": [
    "# RAG prompt template\n",
    "template = \"\"\"Answer the question based ONLY on the following context and question. Do not use any external information. Give citations. if question is not relevant to the context, answer with \"Not relevant\".:\n",
    "{context}\n",
    "Question: {question}\n",
    "\"\"\"\n",
    "\n",
    "prompt = ChatPromptTemplate.from_template(template)"
   ]
  },
  {
   "cell_type": "code",
   "execution_count": 50,
   "metadata": {},
   "outputs": [],
   "source": [
    "# Create chain\n",
    "chain = (\n",
    "    {\"context\": retriever, \"question\": RunnablePassthrough()}\n",
    "    | prompt\n",
    "    | llm\n",
    "    | StrOutputParser()\n",
    ")"
   ]
  },
  {
   "cell_type": "markdown",
   "metadata": {},
   "source": [
    "#### Chat with PDF"
   ]
  },
  {
   "cell_type": "code",
   "execution_count": 58,
   "metadata": {},
   "outputs": [],
   "source": [
    "def chat_with_pdf(question):\n",
    "    \"\"\"\n",
    "    Chat with the PDF using the RAG chain.\n",
    "    \"\"\"\n",
    "    return display(Markdown(chain.invoke(input = question + \"give citations in the format document name : <document name> ; page number : <page number> ; paragraph number : <paragraph number> ; first sentence : <first sentence>\")))"
   ]
  },
  {
   "cell_type": "code",
   "execution_count": 59,
   "metadata": {},
   "outputs": [
    {
     "data": {
      "text/markdown": [
       "The purpose of this book is to provide a description of thirteen principles that can help achieve success, and to instruct the reader on how to transmute the definite purpose of desire for money into its monetary equivalent.\n",
       "\n",
       "Here are the citations:\n",
       "Document name : Think_and_Grow_Rich.pdf ; page number : 1 ; paragraph number : 1 ; first sentence : \"In answer to these questions, this book was written.\"\n",
       "Additionally, \n",
       "Document name : Think_and_Grow_Rich.pdf ; page number : not specified ; paragraph number : 3 ; first sentence : \"This book has been confined, exclusively, to instructing the reader how to transmute the DEFINITE PURPOSE OF DESIRE FOR MONEY, into its monetary equivalent.\" \n",
       "\n",
       "Note: The page numbers are not explicitly mentioned in the provided context for all documents."
      ],
      "text/plain": [
       "<IPython.core.display.Markdown object>"
      ]
     },
     "metadata": {},
     "output_type": "display_data"
    }
   ],
   "source": [
    "chat_with_pdf(\"whats the purpose of this book\")"
   ]
  },
  {
   "cell_type": "code",
   "execution_count": 60,
   "metadata": {},
   "outputs": [
    {
     "data": {
      "text/markdown": [
       "The main idea of this document is to provide instructions and principles for achieving success, specifically in accumulating wealth, by developing a positive mindset, following certain steps, and using one's creative faculties.\n",
       "\n",
       "Here are the citations:\n",
       "Think_and_Grow_Rich.pdf : Think_and_Grow_Rich.pdf ; page number : Not specified ; paragraph number : 1 ; first sentence : \"The fact that you are reading this book is an indication that you earnestly seek knowledge.\"\n",
       "Additionally, \n",
       "Think_and_Grow_Rich.pdf : Think_and_Grow_Rich.pdf ; page number : Not specified ; paragraph number : 3 ; first sentence : \"One sound idea is all that one needs to achieve success.\"\n",
       "Also,\n",
       "Think_and_Grow_Rich.pdf : Think_and_Grow_Rich.pdf ; page number : 57 ; paragraph number : 1 ; first sentence : \"The creative faculty becomes more alert, more receptive to vibrations from the sources mentioned, in proportion to its development through USE.\""
      ],
      "text/plain": [
       "<IPython.core.display.Markdown object>"
      ]
     },
     "metadata": {},
     "output_type": "display_data"
    }
   ],
   "source": [
    "# Example 1\n",
    "chat_with_pdf(\"What is the main idea of this document?\")"
   ]
  },
  {
   "cell_type": "code",
   "execution_count": 61,
   "metadata": {},
   "outputs": [
    {
     "data": {
      "text/markdown": [
       "You are the master of your own earthly destiny because you have the power to control your own thoughts. \n",
       "Document name : Think_and_Grow_Rich.pdf ; page number : 153 ; paragraph number : 1 ; first sentence : You may control your own mind, you have the power to feed it whatever thought impulses you choose. \n",
       "\n",
       "This is stated in the provided context as: \"You are the master of your own earthly destiny just as surely as you have the power to control your own thoughts.\" (Think_and_Grow_Rich.pdf, page 153)"
      ],
      "text/plain": [
       "<IPython.core.display.Markdown object>"
      ]
     },
     "metadata": {},
     "output_type": "display_data"
    }
   ],
   "source": [
    "chat_with_pdf(\"Why you are the master of your fate?\")"
   ]
  },
  {
   "cell_type": "code",
   "execution_count": 62,
   "metadata": {},
   "outputs": [
    {
     "data": {
      "text/markdown": [
       "Not relevant \n",
       "\n",
       "(Note: The context does not explicitly mention the author's name. Although it mentions \"the man to whom Carnegie disclosed the astounding secret of his riches-- the same man to whom the 500 wealthy men revealed the source of their riches\" and \"the author's introduction\", it does not provide a specific name.)"
      ],
      "text/plain": [
       "<IPython.core.display.Markdown object>"
      ]
     },
     "metadata": {},
     "output_type": "display_data"
    }
   ],
   "source": [
    "chat_with_pdf(\"Who is the author of this book?\")"
   ]
  },
  {
   "cell_type": "code",
   "execution_count": 63,
   "metadata": {},
   "outputs": [
    {
     "data": {
      "text/markdown": [
       "Not relevant. \n",
       "\n",
       "The context does not mention anyone going to the moon. The provided text appears to be excerpts from the book \"Think and Grow Rich\" by Napoleon Hill, discussing topics such as desire, imagination, and success, but it does not reference space travel or the moon."
      ],
      "text/plain": [
       "<IPython.core.display.Markdown object>"
      ]
     },
     "metadata": {},
     "output_type": "display_data"
    }
   ],
   "source": [
    "chat_with_pdf(\"Who went to the moon?\")"
   ]
  },
  {
   "cell_type": "code",
   "execution_count": 64,
   "metadata": {},
   "outputs": [
    {
     "data": {
      "text/markdown": [
       "To become rich, one can follow the principles outlined in the book \"Think and Grow Rich\" by Napoleon Hill. Here are some steps to become rich, along with citations:\n",
       "\n",
       "1. **Intelligent planning**: Intelligent planning is essential for success in any undertaking designed to accumulate riches. (Document name: Think_and_Grow_Rich ; Page number: Not specified; Paragraph number: Not specified; First sentence: Intelligent planning is essential for success in any undertaking designed to accumulate riches.)\n",
       "2. **Develop a leader mindset**: Decide at the outset whether you intend to become a leader in your chosen calling, or remain a follower. (Document name: Think_and_Grow_Rich ; Page number: Not specified; Paragraph number: Not specified; First sentence: Broadly speaking, there are two types of people in the world.)\n",
       "3. **Think and grow rich**: RICHES begin in the form of THOUGHT! (Document name: Think_and_Grow_Rich ; Page number: 43; Paragraph number: Not specified; First sentence: RICHES begin in the form of THOUGHT!)\n",
       "4. **Remove limitations**: FAITH removes limitations! (Document name: Think_and_Grow_Rich ; Page number: 43; Paragraph number: Not specified; First sentence: FAITH removes limitations!)\n",
       "5. **Avoid fatal mistakes**: QUICK RICHES are more dangerous than poverty, and INTENTIONAL DISHONESTY is fatal to success. (Document name: Think_and_Grow_Rich ; Page number: 80; Paragraph number: Not specified; First sentence: 26.)\n",
       "6. **Acquire facts and think accurately**: Most people are too indifferent or lazy to acquire FACTS with which to THINK ACCURATELY. (Document name: Think_and_Grow_Rich ; Page number: 80; Paragraph number: Not specified; First sentence: 29.)\n",
       "\n",
       "Note that the page numbers and paragraph numbers are not always specified in the provided text, so I couldn't include them in all citations.\n",
       "\n",
       "Additionally, here are some general principles from the book:\n",
       "\n",
       "* The Thirteen Steps to Riches described in this book offer the shortest dependable philosophy of individual achievement ever presented for the benefit of the man or woman who is searching for a definite goal in life. (Document name: Think_and_Grow_Rich ; Page number: 2; Paragraph number: Not specified; First sentence: The Thirteen Steps to Riches described in this book offer the shortest dependable philosophy of individual achievement ever presented for the benefit of the man or woman who is searching for a definite goal in life.)\n",
       "* The amount of riches is limited only by the person in whose mind the THOUGHT is put into motion. (Document name: Think_and_Grow_Rich ; Page number: 43; Paragraph number: Not specified; First sentence: RICHES begin in the form of THOUGHT!)"
      ],
      "text/plain": [
       "<IPython.core.display.Markdown object>"
      ]
     },
     "metadata": {},
     "output_type": "display_data"
    }
   ],
   "source": [
    "chat_with_pdf(\"how to become rich?\")"
   ]
  },
  {
   "cell_type": "markdown",
   "metadata": {},
   "source": [
    "#### Cleaning"
   ]
  },
  {
   "cell_type": "code",
   "execution_count": 17,
   "metadata": {},
   "outputs": [
    {
     "name": "stdout",
     "output_type": "stream",
     "text": [
      "Vector database deleted successfully\n"
     ]
    }
   ],
   "source": [
    "# Optional: Clean up when done \n",
    "vector_db.delete_collection()\n",
    "print(\"Vector database deleted successfully\")"
   ]
  },
  {
   "cell_type": "code",
   "execution_count": null,
   "metadata": {},
   "outputs": [],
   "source": []
  }
 ],
 "metadata": {
  "kernelspec": {
   "display_name": ".venv",
   "language": "python",
   "name": "python3"
  },
  "language_info": {
   "codemirror_mode": {
    "name": "ipython",
    "version": 3
   },
   "file_extension": ".py",
   "mimetype": "text/x-python",
   "name": "python",
   "nbconvert_exporter": "python",
   "pygments_lexer": "ipython3",
   "version": "3.12.3"
  }
 },
 "nbformat": 4,
 "nbformat_minor": 2
}
